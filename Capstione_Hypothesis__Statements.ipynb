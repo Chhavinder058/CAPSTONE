{
  "nbformat": 4,
  "nbformat_minor": 0,
  "metadata": {
    "colab": {
      "provenance": [],
      "authorship_tag": "ABX9TyOi69Gz4wpzqfFoeVZzcJLP",
      "include_colab_link": true
    },
    "kernelspec": {
      "name": "python3",
      "display_name": "Python 3"
    },
    "language_info": {
      "name": "python"
    }
  },
  "cells": [
    {
      "cell_type": "markdown",
      "metadata": {
        "id": "view-in-github",
        "colab_type": "text"
      },
      "source": [
        "<a href=\"https://colab.research.google.com/github/Chhavinder058/CAPSTONE/blob/main/Capstione_Hypothesis__Statements.ipynb\" target=\"_parent\"><img src=\"https://colab.research.google.com/assets/colab-badge.svg\" alt=\"Open In Colab\"/></a>"
      ]
    },
    {
      "cell_type": "markdown",
      "source": [
        "# **CAPSTONE - Farming 2.0: IoT and Machine Learning Integration**\n",
        "\n",
        "## **Team Members**\n",
        "\n",
        "1.Chhavinder Singh - 0830731\n",
        "\n",
        "2.Gireeshma Yarradoddi - 0858771\n",
        "\n",
        "3.Osama Al Daqaq - 0847700\n",
        "\n",
        "4.Santosh Gopi - 0850689\n",
        "\n",
        "5.Amandeep Kaur - 0837476"
      ],
      "metadata": {
        "id": "xKk4kC0VZzeB"
      }
    },
    {
      "cell_type": "markdown",
      "source": [
        "# **HYPOTHESIS STATEMENTS**"
      ],
      "metadata": {
        "id": "v4B8j-vgagaV"
      }
    },
    {
      "cell_type": "code",
      "source": [
        "# Hypothesis 1: Regions with higher rainfall have higher crop yields.\n",
        "hypothesis_1 = \"Higher Rainfall_mm is associated with higher Yield_tons_per_hectare.\"\n",
        "\n",
        "# Hypothesis 2: The use of fertilizers leads to a significant increase in crop yield.\n",
        "hypothesis_2 = \"Fertilizer_Used (True) has a higher Yield_tons_per_hectare compared to when it is not used (False).\"\n",
        "\n",
        "# Hypothesis 3: Temperature impacts the number of days to harvest.\n",
        "hypothesis_3 = \"Higher Temperature_Celsius is correlated with a shorter Days_to_Harvest.\""
      ],
      "metadata": {
        "id": "gy_i6DHLZwaT"
      },
      "execution_count": 15,
      "outputs": []
    },
    {
      "cell_type": "code",
      "execution_count": 14,
      "metadata": {
        "id": "fZq4at-aShak"
      },
      "outputs": [],
      "source": [
        "#Importing all the necessary libraries\n",
        "import pandas as pd\n",
        "import numpy as np\n",
        "import matplotlib.pyplot as plt\n",
        "import seaborn as sns\n",
        "import warnings\n",
        "warnings.filterwarnings('ignore')\n",
        "from sklearn.model_selection import train_test_split\n",
        "from sklearn.ensemble import RandomForestClassifier\n",
        "from sklearn.metrics import accuracy_score\n"
      ]
    },
    {
      "cell_type": "code",
      "source": [
        "#Loading the dataset\n",
        "from google.colab import drive\n",
        "drive.mount('/content/drive')\n",
        "data = pd.read_csv(\"crop_yield.csv\")\n",
        "\n",
        "# Display the first 5 rows of the data\n",
        "print(data.head())"
      ],
      "metadata": {
        "colab": {
          "base_uri": "https://localhost:8080/"
        },
        "id": "6k21--OMUIwu",
        "outputId": "b2fcc6e0-5a38-4632-9d47-0f4edb68a9da"
      },
      "execution_count": 4,
      "outputs": [
        {
          "output_type": "stream",
          "name": "stdout",
          "text": [
            "Mounted at /content/drive\n",
            "  Region Soil_Type     Crop  Rainfall_mm  Temperature_Celsius Fertilizer_Used  \\\n",
            "0   West     Sandy   Cotton   897.077239            27.676966           False   \n",
            "1  South      Clay     Rice   992.673282            18.026142            True   \n",
            "2  North      Loam   Barley   147.998025            29.794042           False   \n",
            "3  North     Sandy  Soybean   986.866331            16.644190           False   \n",
            "4  South      Silt    Wheat   730.379174            31.620687            True   \n",
            "\n",
            "  Irrigation_Used Weather_Condition  Days_to_Harvest  Yield_tons_per_hectare  \n",
            "0            True            Cloudy            122.0                6.555816  \n",
            "1            True             Rainy            140.0                8.527341  \n",
            "2           False             Sunny            106.0                1.127443  \n",
            "3            True             Rainy            146.0                6.517573  \n",
            "4            True            Cloudy            110.0                7.248251  \n"
          ]
        }
      ]
    },
    {
      "cell_type": "code",
      "source": [
        "data.describe() #Provides the statistical summary"
      ],
      "metadata": {
        "colab": {
          "base_uri": "https://localhost:8080/",
          "height": 300
        },
        "id": "TTrpHE5-UZZW",
        "outputId": "ce211ca8-4cfc-437f-9cc5-4f02485aa469"
      },
      "execution_count": 5,
      "outputs": [
        {
          "output_type": "execute_result",
          "data": {
            "text/plain": [
              "         Rainfall_mm  Temperature_Celsius  Days_to_Harvest  \\\n",
              "count  112260.000000        112260.000000    112259.000000   \n",
              "mean      548.644859            27.504382       104.416029   \n",
              "std       259.706819             7.218918        25.979104   \n",
              "min       100.006823             3.000000        60.000000   \n",
              "25%       323.431830            21.251081        82.000000   \n",
              "50%       548.658027            27.545796       104.000000   \n",
              "75%       772.380458            33.761707       127.000000   \n",
              "max       999.996116            39.998947       149.000000   \n",
              "\n",
              "       Yield_tons_per_hectare  \n",
              "count           112259.000000  \n",
              "mean                 4.643501  \n",
              "std                  1.696499  \n",
              "min                 -0.841617  \n",
              "25%                  3.413154  \n",
              "50%                  4.649180  \n",
              "75%                  5.867159  \n",
              "max                  9.727004  "
            ],
            "text/html": [
              "\n",
              "  <div id=\"df-a70dda34-334d-4ea7-8c52-940e1b4b9627\" class=\"colab-df-container\">\n",
              "    <div>\n",
              "<style scoped>\n",
              "    .dataframe tbody tr th:only-of-type {\n",
              "        vertical-align: middle;\n",
              "    }\n",
              "\n",
              "    .dataframe tbody tr th {\n",
              "        vertical-align: top;\n",
              "    }\n",
              "\n",
              "    .dataframe thead th {\n",
              "        text-align: right;\n",
              "    }\n",
              "</style>\n",
              "<table border=\"1\" class=\"dataframe\">\n",
              "  <thead>\n",
              "    <tr style=\"text-align: right;\">\n",
              "      <th></th>\n",
              "      <th>Rainfall_mm</th>\n",
              "      <th>Temperature_Celsius</th>\n",
              "      <th>Days_to_Harvest</th>\n",
              "      <th>Yield_tons_per_hectare</th>\n",
              "    </tr>\n",
              "  </thead>\n",
              "  <tbody>\n",
              "    <tr>\n",
              "      <th>count</th>\n",
              "      <td>112260.000000</td>\n",
              "      <td>112260.000000</td>\n",
              "      <td>112259.000000</td>\n",
              "      <td>112259.000000</td>\n",
              "    </tr>\n",
              "    <tr>\n",
              "      <th>mean</th>\n",
              "      <td>548.644859</td>\n",
              "      <td>27.504382</td>\n",
              "      <td>104.416029</td>\n",
              "      <td>4.643501</td>\n",
              "    </tr>\n",
              "    <tr>\n",
              "      <th>std</th>\n",
              "      <td>259.706819</td>\n",
              "      <td>7.218918</td>\n",
              "      <td>25.979104</td>\n",
              "      <td>1.696499</td>\n",
              "    </tr>\n",
              "    <tr>\n",
              "      <th>min</th>\n",
              "      <td>100.006823</td>\n",
              "      <td>3.000000</td>\n",
              "      <td>60.000000</td>\n",
              "      <td>-0.841617</td>\n",
              "    </tr>\n",
              "    <tr>\n",
              "      <th>25%</th>\n",
              "      <td>323.431830</td>\n",
              "      <td>21.251081</td>\n",
              "      <td>82.000000</td>\n",
              "      <td>3.413154</td>\n",
              "    </tr>\n",
              "    <tr>\n",
              "      <th>50%</th>\n",
              "      <td>548.658027</td>\n",
              "      <td>27.545796</td>\n",
              "      <td>104.000000</td>\n",
              "      <td>4.649180</td>\n",
              "    </tr>\n",
              "    <tr>\n",
              "      <th>75%</th>\n",
              "      <td>772.380458</td>\n",
              "      <td>33.761707</td>\n",
              "      <td>127.000000</td>\n",
              "      <td>5.867159</td>\n",
              "    </tr>\n",
              "    <tr>\n",
              "      <th>max</th>\n",
              "      <td>999.996116</td>\n",
              "      <td>39.998947</td>\n",
              "      <td>149.000000</td>\n",
              "      <td>9.727004</td>\n",
              "    </tr>\n",
              "  </tbody>\n",
              "</table>\n",
              "</div>\n",
              "    <div class=\"colab-df-buttons\">\n",
              "\n",
              "  <div class=\"colab-df-container\">\n",
              "    <button class=\"colab-df-convert\" onclick=\"convertToInteractive('df-a70dda34-334d-4ea7-8c52-940e1b4b9627')\"\n",
              "            title=\"Convert this dataframe to an interactive table.\"\n",
              "            style=\"display:none;\">\n",
              "\n",
              "  <svg xmlns=\"http://www.w3.org/2000/svg\" height=\"24px\" viewBox=\"0 -960 960 960\">\n",
              "    <path d=\"M120-120v-720h720v720H120Zm60-500h600v-160H180v160Zm220 220h160v-160H400v160Zm0 220h160v-160H400v160ZM180-400h160v-160H180v160Zm440 0h160v-160H620v160ZM180-180h160v-160H180v160Zm440 0h160v-160H620v160Z\"/>\n",
              "  </svg>\n",
              "    </button>\n",
              "\n",
              "  <style>\n",
              "    .colab-df-container {\n",
              "      display:flex;\n",
              "      gap: 12px;\n",
              "    }\n",
              "\n",
              "    .colab-df-convert {\n",
              "      background-color: #E8F0FE;\n",
              "      border: none;\n",
              "      border-radius: 50%;\n",
              "      cursor: pointer;\n",
              "      display: none;\n",
              "      fill: #1967D2;\n",
              "      height: 32px;\n",
              "      padding: 0 0 0 0;\n",
              "      width: 32px;\n",
              "    }\n",
              "\n",
              "    .colab-df-convert:hover {\n",
              "      background-color: #E2EBFA;\n",
              "      box-shadow: 0px 1px 2px rgba(60, 64, 67, 0.3), 0px 1px 3px 1px rgba(60, 64, 67, 0.15);\n",
              "      fill: #174EA6;\n",
              "    }\n",
              "\n",
              "    .colab-df-buttons div {\n",
              "      margin-bottom: 4px;\n",
              "    }\n",
              "\n",
              "    [theme=dark] .colab-df-convert {\n",
              "      background-color: #3B4455;\n",
              "      fill: #D2E3FC;\n",
              "    }\n",
              "\n",
              "    [theme=dark] .colab-df-convert:hover {\n",
              "      background-color: #434B5C;\n",
              "      box-shadow: 0px 1px 3px 1px rgba(0, 0, 0, 0.15);\n",
              "      filter: drop-shadow(0px 1px 2px rgba(0, 0, 0, 0.3));\n",
              "      fill: #FFFFFF;\n",
              "    }\n",
              "  </style>\n",
              "\n",
              "    <script>\n",
              "      const buttonEl =\n",
              "        document.querySelector('#df-a70dda34-334d-4ea7-8c52-940e1b4b9627 button.colab-df-convert');\n",
              "      buttonEl.style.display =\n",
              "        google.colab.kernel.accessAllowed ? 'block' : 'none';\n",
              "\n",
              "      async function convertToInteractive(key) {\n",
              "        const element = document.querySelector('#df-a70dda34-334d-4ea7-8c52-940e1b4b9627');\n",
              "        const dataTable =\n",
              "          await google.colab.kernel.invokeFunction('convertToInteractive',\n",
              "                                                    [key], {});\n",
              "        if (!dataTable) return;\n",
              "\n",
              "        const docLinkHtml = 'Like what you see? Visit the ' +\n",
              "          '<a target=\"_blank\" href=https://colab.research.google.com/notebooks/data_table.ipynb>data table notebook</a>'\n",
              "          + ' to learn more about interactive tables.';\n",
              "        element.innerHTML = '';\n",
              "        dataTable['output_type'] = 'display_data';\n",
              "        await google.colab.output.renderOutput(dataTable, element);\n",
              "        const docLink = document.createElement('div');\n",
              "        docLink.innerHTML = docLinkHtml;\n",
              "        element.appendChild(docLink);\n",
              "      }\n",
              "    </script>\n",
              "  </div>\n",
              "\n",
              "\n",
              "<div id=\"df-5c235161-94a2-47a0-8dc1-da5a1d5dd637\">\n",
              "  <button class=\"colab-df-quickchart\" onclick=\"quickchart('df-5c235161-94a2-47a0-8dc1-da5a1d5dd637')\"\n",
              "            title=\"Suggest charts\"\n",
              "            style=\"display:none;\">\n",
              "\n",
              "<svg xmlns=\"http://www.w3.org/2000/svg\" height=\"24px\"viewBox=\"0 0 24 24\"\n",
              "     width=\"24px\">\n",
              "    <g>\n",
              "        <path d=\"M19 3H5c-1.1 0-2 .9-2 2v14c0 1.1.9 2 2 2h14c1.1 0 2-.9 2-2V5c0-1.1-.9-2-2-2zM9 17H7v-7h2v7zm4 0h-2V7h2v10zm4 0h-2v-4h2v4z\"/>\n",
              "    </g>\n",
              "</svg>\n",
              "  </button>\n",
              "\n",
              "<style>\n",
              "  .colab-df-quickchart {\n",
              "      --bg-color: #E8F0FE;\n",
              "      --fill-color: #1967D2;\n",
              "      --hover-bg-color: #E2EBFA;\n",
              "      --hover-fill-color: #174EA6;\n",
              "      --disabled-fill-color: #AAA;\n",
              "      --disabled-bg-color: #DDD;\n",
              "  }\n",
              "\n",
              "  [theme=dark] .colab-df-quickchart {\n",
              "      --bg-color: #3B4455;\n",
              "      --fill-color: #D2E3FC;\n",
              "      --hover-bg-color: #434B5C;\n",
              "      --hover-fill-color: #FFFFFF;\n",
              "      --disabled-bg-color: #3B4455;\n",
              "      --disabled-fill-color: #666;\n",
              "  }\n",
              "\n",
              "  .colab-df-quickchart {\n",
              "    background-color: var(--bg-color);\n",
              "    border: none;\n",
              "    border-radius: 50%;\n",
              "    cursor: pointer;\n",
              "    display: none;\n",
              "    fill: var(--fill-color);\n",
              "    height: 32px;\n",
              "    padding: 0;\n",
              "    width: 32px;\n",
              "  }\n",
              "\n",
              "  .colab-df-quickchart:hover {\n",
              "    background-color: var(--hover-bg-color);\n",
              "    box-shadow: 0 1px 2px rgba(60, 64, 67, 0.3), 0 1px 3px 1px rgba(60, 64, 67, 0.15);\n",
              "    fill: var(--button-hover-fill-color);\n",
              "  }\n",
              "\n",
              "  .colab-df-quickchart-complete:disabled,\n",
              "  .colab-df-quickchart-complete:disabled:hover {\n",
              "    background-color: var(--disabled-bg-color);\n",
              "    fill: var(--disabled-fill-color);\n",
              "    box-shadow: none;\n",
              "  }\n",
              "\n",
              "  .colab-df-spinner {\n",
              "    border: 2px solid var(--fill-color);\n",
              "    border-color: transparent;\n",
              "    border-bottom-color: var(--fill-color);\n",
              "    animation:\n",
              "      spin 1s steps(1) infinite;\n",
              "  }\n",
              "\n",
              "  @keyframes spin {\n",
              "    0% {\n",
              "      border-color: transparent;\n",
              "      border-bottom-color: var(--fill-color);\n",
              "      border-left-color: var(--fill-color);\n",
              "    }\n",
              "    20% {\n",
              "      border-color: transparent;\n",
              "      border-left-color: var(--fill-color);\n",
              "      border-top-color: var(--fill-color);\n",
              "    }\n",
              "    30% {\n",
              "      border-color: transparent;\n",
              "      border-left-color: var(--fill-color);\n",
              "      border-top-color: var(--fill-color);\n",
              "      border-right-color: var(--fill-color);\n",
              "    }\n",
              "    40% {\n",
              "      border-color: transparent;\n",
              "      border-right-color: var(--fill-color);\n",
              "      border-top-color: var(--fill-color);\n",
              "    }\n",
              "    60% {\n",
              "      border-color: transparent;\n",
              "      border-right-color: var(--fill-color);\n",
              "    }\n",
              "    80% {\n",
              "      border-color: transparent;\n",
              "      border-right-color: var(--fill-color);\n",
              "      border-bottom-color: var(--fill-color);\n",
              "    }\n",
              "    90% {\n",
              "      border-color: transparent;\n",
              "      border-bottom-color: var(--fill-color);\n",
              "    }\n",
              "  }\n",
              "</style>\n",
              "\n",
              "  <script>\n",
              "    async function quickchart(key) {\n",
              "      const quickchartButtonEl =\n",
              "        document.querySelector('#' + key + ' button');\n",
              "      quickchartButtonEl.disabled = true;  // To prevent multiple clicks.\n",
              "      quickchartButtonEl.classList.add('colab-df-spinner');\n",
              "      try {\n",
              "        const charts = await google.colab.kernel.invokeFunction(\n",
              "            'suggestCharts', [key], {});\n",
              "      } catch (error) {\n",
              "        console.error('Error during call to suggestCharts:', error);\n",
              "      }\n",
              "      quickchartButtonEl.classList.remove('colab-df-spinner');\n",
              "      quickchartButtonEl.classList.add('colab-df-quickchart-complete');\n",
              "    }\n",
              "    (() => {\n",
              "      let quickchartButtonEl =\n",
              "        document.querySelector('#df-5c235161-94a2-47a0-8dc1-da5a1d5dd637 button');\n",
              "      quickchartButtonEl.style.display =\n",
              "        google.colab.kernel.accessAllowed ? 'block' : 'none';\n",
              "    })();\n",
              "  </script>\n",
              "</div>\n",
              "\n",
              "    </div>\n",
              "  </div>\n"
            ],
            "application/vnd.google.colaboratory.intrinsic+json": {
              "type": "dataframe",
              "summary": "{\n  \"name\": \"data\",\n  \"rows\": 8,\n  \"fields\": [\n    {\n      \"column\": \"Rainfall_mm\",\n      \"properties\": {\n        \"dtype\": \"number\",\n        \"std\": 39511.50276533244,\n        \"min\": 100.00682334974005,\n        \"max\": 112260.0,\n        \"num_unique_values\": 8,\n        \"samples\": [\n          548.6448591949701,\n          548.6580266498133,\n          112260.0\n        ],\n        \"semantic_type\": \"\",\n        \"description\": \"\"\n      }\n    },\n    {\n      \"column\": \"Temperature_Celsius\",\n      \"properties\": {\n        \"dtype\": \"number\",\n        \"std\": 39681.810199518484,\n        \"min\": 3.0,\n        \"max\": 112260.0,\n        \"num_unique_values\": 8,\n        \"samples\": [\n          27.504382113361924,\n          27.545796091837005,\n          112260.0\n        ],\n        \"semantic_type\": \"\",\n        \"description\": \"\"\n      }\n    },\n    {\n      \"column\": \"Days_to_Harvest\",\n      \"properties\": {\n        \"dtype\": \"number\",\n        \"std\": 39656.617597187855,\n        \"min\": 25.979104484420336,\n        \"max\": 112259.0,\n        \"num_unique_values\": 8,\n        \"samples\": [\n          104.41602900435599,\n          104.0,\n          112259.0\n        ],\n        \"semantic_type\": \"\",\n        \"description\": \"\"\n      }\n    },\n    {\n      \"column\": \"Yield_tons_per_hectare\",\n      \"properties\": {\n        \"dtype\": \"number\",\n        \"std\": 39688.07764962365,\n        \"min\": -0.8416173894988277,\n        \"max\": 112259.0,\n        \"num_unique_values\": 8,\n        \"samples\": [\n          4.643500583093086,\n          4.649180473403624,\n          112259.0\n        ],\n        \"semantic_type\": \"\",\n        \"description\": \"\"\n      }\n    }\n  ]\n}"
            }
          },
          "metadata": {},
          "execution_count": 5
        }
      ]
    },
    {
      "cell_type": "code",
      "source": [
        "data.info()"
      ],
      "metadata": {
        "colab": {
          "base_uri": "https://localhost:8080/"
        },
        "id": "Fd2m4XOgUdj7",
        "outputId": "9b9d19a2-35b1-405a-f0cb-79e07d9ad820"
      },
      "execution_count": 6,
      "outputs": [
        {
          "output_type": "stream",
          "name": "stdout",
          "text": [
            "<class 'pandas.core.frame.DataFrame'>\n",
            "RangeIndex: 112260 entries, 0 to 112259\n",
            "Data columns (total 10 columns):\n",
            " #   Column                  Non-Null Count   Dtype  \n",
            "---  ------                  --------------   -----  \n",
            " 0   Region                  112260 non-null  object \n",
            " 1   Soil_Type               112260 non-null  object \n",
            " 2   Crop                    112260 non-null  object \n",
            " 3   Rainfall_mm             112260 non-null  float64\n",
            " 4   Temperature_Celsius     112260 non-null  float64\n",
            " 5   Fertilizer_Used         112259 non-null  object \n",
            " 6   Irrigation_Used         112259 non-null  object \n",
            " 7   Weather_Condition       112259 non-null  object \n",
            " 8   Days_to_Harvest         112259 non-null  float64\n",
            " 9   Yield_tons_per_hectare  112259 non-null  float64\n",
            "dtypes: float64(4), object(6)\n",
            "memory usage: 8.6+ MB\n"
          ]
        }
      ]
    },
    {
      "cell_type": "code",
      "source": [
        "# Checks for missing values in each column\n",
        "missing_values = data.isnull().sum()\n",
        "\n",
        "# Displays the count of missing value.\n",
        "print(\"Missing values in each column:\")\n",
        "print(missing_values)\n",
        "\n",
        "# It checks the only columns with missing values:\n",
        "missing_columns = missing_values[missing_values > 0]\n",
        "print(\"\\nColumns with missing values:\")\n",
        "print(missing_columns)"
      ],
      "metadata": {
        "colab": {
          "base_uri": "https://localhost:8080/"
        },
        "id": "ym-YmheCVb_C",
        "outputId": "5ea644c3-5e52-4fcf-fa73-e72874addc58"
      },
      "execution_count": 10,
      "outputs": [
        {
          "output_type": "stream",
          "name": "stdout",
          "text": [
            "Missing values in each column:\n",
            "Region                    0\n",
            "Soil_Type                 0\n",
            "Crop                      0\n",
            "Rainfall_mm               0\n",
            "Temperature_Celsius       0\n",
            "Fertilizer_Used           1\n",
            "Irrigation_Used           1\n",
            "Weather_Condition         1\n",
            "Days_to_Harvest           1\n",
            "Yield_tons_per_hectare    1\n",
            "dtype: int64\n",
            "\n",
            "Columns with missing values:\n",
            "Fertilizer_Used           1\n",
            "Irrigation_Used           1\n",
            "Weather_Condition         1\n",
            "Days_to_Harvest           1\n",
            "Yield_tons_per_hectare    1\n",
            "dtype: int64\n"
          ]
        }
      ]
    },
    {
      "cell_type": "code",
      "source": [
        "# Fill missing values for numeric columns with their mean\n",
        "data['Days_to_Harvest'] = data['Days_to_Harvest'].fillna(data['Days_to_Harvest'].mean())\n",
        "data['Yield_tons_per_hectare'] = data['Yield_tons_per_hectare'].fillna(data['Yield_tons_per_hectare'].mean())\n",
        "\n",
        "# Fill missing values for categorical columns with the mode (most frequent value)\n",
        "data['Fertilizer_Used'] = data['Fertilizer_Used'].fillna(data['Fertilizer_Used'].mode()[0])\n",
        "data['Irrigation_Used'] = data['Irrigation_Used'].fillna(data['Irrigation_Used'].mode()[0])\n",
        "data['Weather_Condition'] = data['Weather_Condition'].fillna(data['Weather_Condition'].mode()[0])\n",
        "\n",
        "# Verify that there are no missing values\n",
        "print(\"Missing values after filling:\")\n",
        "print(data.isnull().sum())"
      ],
      "metadata": {
        "colab": {
          "base_uri": "https://localhost:8080/"
        },
        "id": "PWdWbFu_Yla7",
        "outputId": "83162bc4-3e22-49f4-aa6c-f235f32fb483"
      },
      "execution_count": 13,
      "outputs": [
        {
          "output_type": "stream",
          "name": "stdout",
          "text": [
            "Missing values after filling:\n",
            "Region                    0\n",
            "Soil_Type                 0\n",
            "Crop                      0\n",
            "Rainfall_mm               0\n",
            "Temperature_Celsius       0\n",
            "Fertilizer_Used           0\n",
            "Irrigation_Used           0\n",
            "Weather_Condition         0\n",
            "Days_to_Harvest           0\n",
            "Yield_tons_per_hectare    0\n",
            "dtype: int64\n"
          ]
        }
      ]
    },
    {
      "cell_type": "markdown",
      "source": [
        "# **Hypothesis 1: Regions with higher rainfall have higher crop yields.**\n",
        "hypothesis_1 = \"Higher Rainfall_mm is associated with higher Yield_tons_per_hectare.\""
      ],
      "metadata": {
        "id": "hnRe2UcleE9U"
      }
    },
    {
      "cell_type": "code",
      "source": [
        "import scipy.stats as stats\n",
        "\n",
        "# Calculate the correlation between Rainfall_mm and Yield_tons_per_hectare\n",
        "correlation, p_value = stats.pearsonr(data['Rainfall_mm'], data['Yield_tons_per_hectare'])\n",
        "\n",
        "print(f\"Correlation: {correlation}\")\n",
        "print(f\"P-value: {p_value}\")\n",
        "\n",
        "# Interpretation: If p_value < 0.05, there is a statistically significant correlation between rainfall and crop yield."
      ],
      "metadata": {
        "colab": {
          "base_uri": "https://localhost:8080/"
        },
        "id": "d0bcdm-VayrV",
        "outputId": "0e1c5495-36a0-40aa-abc5-dc4c3c5351e5"
      },
      "execution_count": 16,
      "outputs": [
        {
          "output_type": "stream",
          "name": "stdout",
          "text": [
            "Correlation: 0.7632092307798274\n",
            "P-value: 0.0\n"
          ]
        }
      ]
    },
    {
      "cell_type": "markdown",
      "source": [
        "## **Hypothesis Explaination:**\n",
        "1. Correlation (0.763): The correlation value is 0.763, which is close to 1. This means there is a strong positive relationship between rainfall and crop yield. As rainfall increases, crop yield tends to increase as well.\n",
        "2. P-value (0.0): The p-value is 0.0, which is less than 0.05. This indicates that the relationship between rainfall and crop yield is statistically significant and unlikely to be due to random chance.\n",
        "\n",
        "# **Conclusion**:\n",
        "\n",
        "The data strongly supports our hypothesis that regions with higher rainfall tend to have higher crop yields. This is backed by both the strong correlation and the significant p-value."
      ],
      "metadata": {
        "id": "I--naHK8dnBQ"
      }
    },
    {
      "cell_type": "markdown",
      "source": [
        "# **Hypothesis 2: The use of fertilizers leads to a significant increase in crop yield.**\n",
        "hypothesis_2 = \"Fertilizer_Used (True) has a higher Yield_tons_per_hectare compared to when it is not used (False).\""
      ],
      "metadata": {
        "id": "Fj0CfCxNebIC"
      }
    },
    {
      "cell_type": "code",
      "source": [
        "# Separate the data into two groups based on Fertilizer_Used\n",
        "fertilizer_used = data[data['Fertilizer_Used'] == True]['Yield_tons_per_hectare']\n",
        "fertilizer_not_used = data[data['Fertilizer_Used'] == False]['Yield_tons_per_hectare']\n",
        "\n",
        "# Perform an independent t-test\n",
        "t_stat, p_value = stats.ttest_ind(fertilizer_used, fertilizer_not_used)\n",
        "\n",
        "print(f\"T-statistic: {t_stat}\")\n",
        "print(f\"P-value: {p_value}\")\n",
        "\n",
        "# Interpretation:\n",
        "# If p_value < 0.05, there is a significant difference in yields based on fertilizer use."
      ],
      "metadata": {
        "colab": {
          "base_uri": "https://localhost:8080/"
        },
        "id": "vMLeNKWaa6XA",
        "outputId": "f5cf0096-2bee-44bf-b0a1-b88958022e27"
      },
      "execution_count": 17,
      "outputs": [
        {
          "output_type": "stream",
          "name": "stdout",
          "text": [
            "T-statistic: 167.34041111890866\n",
            "P-value: 0.0\n"
          ]
        }
      ]
    },
    {
      "cell_type": "markdown",
      "source": [
        "## **Hypothesis Explanation**\n",
        "1.\tT-statistic (167.34): The t-statistic measures the size of the difference between the average crop yields with and without fertilizer. A very large t-statistic, like 167.34, means that the difference in yields between the two groups is very significant.\n",
        "\n",
        "2.\tP-value (0.0): The p-value is 0.0, which is much smaller than 0.05. This means the difference in crop yields between using fertilizer and not using fertilizer is statistically significant and not due to random chance.\n",
        "\n",
        "# **Conclusion**:\n",
        "\n",
        "The data strongly supports our hypothesis that using fertilizer significantly increases crop yields. The results show a clear and meaningful difference in yield between crops grown with fertilizer and those grown without it."
      ],
      "metadata": {
        "id": "Vu8k9por7sCo"
      }
    },
    {
      "cell_type": "markdown",
      "source": [
        "# **Hypothesis 3: Temperature impacts the number of days to harvest.**\n",
        "hypothesis_3 = \"Higher Temperature_Celsius is correlated with a shorter Days_to_Harvest.\""
      ],
      "metadata": {
        "id": "74BFjHm2eg5C"
      }
    },
    {
      "cell_type": "code",
      "source": [
        "# Calculate the correlation between Temperature_Celsius and Days_to_Harvest\n",
        "correlation, p_value = stats.pearsonr(data['Temperature_Celsius'], data['Days_to_Harvest'])\n",
        "\n",
        "print(f\"Correlation: {correlation}\")\n",
        "print(f\"P-value: {p_value}\")\n",
        "\n",
        "# Interpretation:\n",
        "# If p_value < 0.05, there is a statistically significant correlation between temperature and time to harvest."
      ],
      "metadata": {
        "colab": {
          "base_uri": "https://localhost:8080/"
        },
        "id": "I6nsbmHlbCWM",
        "outputId": "57884c5c-c5e6-4525-f020-5072b4779fbe"
      },
      "execution_count": 18,
      "outputs": [
        {
          "output_type": "stream",
          "name": "stdout",
          "text": [
            "Correlation: 0.0022070093755452106\n",
            "P-value: 0.4596300937067529\n"
          ]
        }
      ]
    },
    {
      "cell_type": "markdown",
      "source": [
        "## **Third hypothesis:**\n",
        "\n",
        "1.\tCorrelation (0.0022): The correlation value is 0.0022, which is extremely close to 0. This indicates that there is no meaningful relationship between temperature and the number of days to harvest.\n",
        "\n",
        "2.\tP-value (0.4596): The p-value is 0.4596, which is much greater than 0.05. This means the result is not statistically significant, and any small correlation observed is likely due to random chance.\n",
        "\n",
        "## **Conclusion**:\n",
        "\n",
        "The data does not support our hypothesis that temperature significantly impacts the number of days to harvest. There appears to be no meaningful connection between these two variables based on this analysis."
      ],
      "metadata": {
        "id": "3hDTH0ek8l0H"
      }
    }
  ]
}